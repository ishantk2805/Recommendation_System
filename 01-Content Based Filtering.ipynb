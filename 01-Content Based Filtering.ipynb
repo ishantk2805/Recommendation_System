{
 "cells": [
  {
   "cell_type": "markdown",
   "metadata": {},
   "source": [
    "# Content-Based Filtering Recommendation Systems\n",
    "\n",
    "## Basics of Recommendation Systems\n",
    "\n",
    "\n",
    "Recommendation systems or recommender systems are one of the most successful and widespread application of machine learning techniques in business. You can find large scale recommender systems in retail, video on demand, or music streaming.\n",
    "\n",
    "* help to increase the site’s page views, dwell time, click-through rate, and retention\n",
    "\n",
    "* help generate more advertising revenue\n",
    "\n",
    "* increase upselling and crossselling\n",
    "\n",
    "**Examples of recommendation systems are:**\n",
    "\n",
    "* offer on-line contents to  viewers or readers, based on a prediction of customers' interests, e.g., TikTok, YouTube\n",
    "\n",
    "* offer customers of an on-line retailer suggestions about what they might want to buy, based on their past history of purchases and/or product searches, e.g., Amazon\n",
    "\n",
    "* recommending movies to user based on their previous watch, e.g., Netflix, see also [Netflix Prize](https://en.wikipedia.org/wiki/Netflix_Prize) \n",
    "\n",
    "<img src=\"https://raw.githubusercontent.com/jalajthanaki/Movie_recommendation_engine/master/img/2_2.png\" \n",
    "align=\"middle\" alt=\"Figure 2.2\" data-canonical-src=\"\" style=\"width:100%;height:100%\">\n",
    "\n",
    "<img src=\"https://raw.githubusercontent.com/jalajthanaki/Movie_recommendation_engine/master/img/2_4.png\" \n",
    "align=\"middle\" alt=\"Figure 2.4\" data-canonical-src=\"\" style=\"width:80%;height:80%\">"
   ]
  },
  {
   "cell_type": "markdown",
   "metadata": {},
   "source": [
    "\n",
    "Two main approaches to the design of recommender systems are **content-based filtering** and **collaborative filtering**. \n",
    "\n",
    "* Content-Based Filtering is used to produce items recommendation based on items’ characteristics.\n",
    "\n",
    "* Collaborative filtering produces recommendations based on the knowledge of users’ attitude such as ratings, towards items."
   ]
  },
  {
   "cell_type": "markdown",
   "metadata": {},
   "source": [
    "## MovieLens Dataset\n",
    "\n",
    "We will use the famous [MovieLens dataset (small)](https://grouplens.org/datasets/movielens), which is one of the most popular datasets used when implementing and testing recommender systems. It contains ~100,000 ratings from ~600 users on ~9700 movies. **None of the users has rated on all movies.**\n",
    "\n",
    "\n",
    "![](https://md.ekstrandom.net/talks/2014/txstate-recsys-research/movielens.png)"
   ]
  },
  {
   "cell_type": "markdown",
   "metadata": {},
   "source": [
    "## Import Libraries "
   ]
  },
  {
   "cell_type": "code",
   "execution_count": 1,
   "metadata": {},
   "outputs": [],
   "source": [
    "from math import sqrt\n",
    "import pandas as pd\n",
    "import numpy as np\n",
    "import seaborn as sns\n",
    "from matplotlib import pyplot as plt"
   ]
  },
  {
   "cell_type": "code",
   "execution_count": 2,
   "metadata": {},
   "outputs": [],
   "source": [
    "# Reading ratings file\n",
    "ratings = pd.read_csv('ratings.csv', sep=',', encoding='latin-1', usecols=['userId','movieId','rating','timestamp'])\n",
    "\n",
    "# Reading movies file\n",
    "movies = pd.read_csv('movies.csv', sep=',', encoding='latin-1', usecols=['movieId','title','genres'])"
   ]
  },
  {
   "cell_type": "code",
   "execution_count": 3,
   "metadata": {},
   "outputs": [],
   "source": [
    "df_movies = movies\n",
    "df_ratings = ratings"
   ]
  },
  {
   "cell_type": "markdown",
   "metadata": {},
   "source": [
    "## Exploratory Data Analysis(EDA)"
   ]
  },
  {
   "cell_type": "code",
   "execution_count": 4,
   "metadata": {},
   "outputs": [
    {
     "data": {
      "text/html": [
       "<div>\n",
       "<style scoped>\n",
       "    .dataframe tbody tr th:only-of-type {\n",
       "        vertical-align: middle;\n",
       "    }\n",
       "\n",
       "    .dataframe tbody tr th {\n",
       "        vertical-align: top;\n",
       "    }\n",
       "\n",
       "    .dataframe thead th {\n",
       "        text-align: right;\n",
       "    }\n",
       "</style>\n",
       "<table border=\"1\" class=\"dataframe\">\n",
       "  <thead>\n",
       "    <tr style=\"text-align: right;\">\n",
       "      <th></th>\n",
       "      <th>movieId</th>\n",
       "      <th>title</th>\n",
       "      <th>genres</th>\n",
       "    </tr>\n",
       "  </thead>\n",
       "  <tbody>\n",
       "    <tr>\n",
       "      <td>0</td>\n",
       "      <td>1</td>\n",
       "      <td>Toy Story (1995)</td>\n",
       "      <td>Adventure|Animation|Children|Comedy|Fantasy</td>\n",
       "    </tr>\n",
       "    <tr>\n",
       "      <td>1</td>\n",
       "      <td>2</td>\n",
       "      <td>Jumanji (1995)</td>\n",
       "      <td>Adventure|Children|Fantasy</td>\n",
       "    </tr>\n",
       "    <tr>\n",
       "      <td>2</td>\n",
       "      <td>3</td>\n",
       "      <td>Grumpier Old Men (1995)</td>\n",
       "      <td>Comedy|Romance</td>\n",
       "    </tr>\n",
       "    <tr>\n",
       "      <td>3</td>\n",
       "      <td>4</td>\n",
       "      <td>Waiting to Exhale (1995)</td>\n",
       "      <td>Comedy|Drama|Romance</td>\n",
       "    </tr>\n",
       "    <tr>\n",
       "      <td>4</td>\n",
       "      <td>5</td>\n",
       "      <td>Father of the Bride Part II (1995)</td>\n",
       "      <td>Comedy</td>\n",
       "    </tr>\n",
       "    <tr>\n",
       "      <td>5</td>\n",
       "      <td>6</td>\n",
       "      <td>Heat (1995)</td>\n",
       "      <td>Action|Crime|Thriller</td>\n",
       "    </tr>\n",
       "    <tr>\n",
       "      <td>6</td>\n",
       "      <td>7</td>\n",
       "      <td>Sabrina (1995)</td>\n",
       "      <td>Comedy|Romance</td>\n",
       "    </tr>\n",
       "    <tr>\n",
       "      <td>7</td>\n",
       "      <td>8</td>\n",
       "      <td>Tom and Huck (1995)</td>\n",
       "      <td>Adventure|Children</td>\n",
       "    </tr>\n",
       "    <tr>\n",
       "      <td>8</td>\n",
       "      <td>9</td>\n",
       "      <td>Sudden Death (1995)</td>\n",
       "      <td>Action</td>\n",
       "    </tr>\n",
       "    <tr>\n",
       "      <td>9</td>\n",
       "      <td>10</td>\n",
       "      <td>GoldenEye (1995)</td>\n",
       "      <td>Action|Adventure|Thriller</td>\n",
       "    </tr>\n",
       "  </tbody>\n",
       "</table>\n",
       "</div>"
      ],
      "text/plain": [
       "   movieId                               title  \\\n",
       "0        1                    Toy Story (1995)   \n",
       "1        2                      Jumanji (1995)   \n",
       "2        3             Grumpier Old Men (1995)   \n",
       "3        4            Waiting to Exhale (1995)   \n",
       "4        5  Father of the Bride Part II (1995)   \n",
       "5        6                         Heat (1995)   \n",
       "6        7                      Sabrina (1995)   \n",
       "7        8                 Tom and Huck (1995)   \n",
       "8        9                 Sudden Death (1995)   \n",
       "9       10                    GoldenEye (1995)   \n",
       "\n",
       "                                        genres  \n",
       "0  Adventure|Animation|Children|Comedy|Fantasy  \n",
       "1                   Adventure|Children|Fantasy  \n",
       "2                               Comedy|Romance  \n",
       "3                         Comedy|Drama|Romance  \n",
       "4                                       Comedy  \n",
       "5                        Action|Crime|Thriller  \n",
       "6                               Comedy|Romance  \n",
       "7                           Adventure|Children  \n",
       "8                                       Action  \n",
       "9                    Action|Adventure|Thriller  "
      ]
     },
     "execution_count": 4,
     "metadata": {},
     "output_type": "execute_result"
    }
   ],
   "source": [
    "df_movies.head(10)"
   ]
  },
  {
   "cell_type": "code",
   "execution_count": 5,
   "metadata": {},
   "outputs": [
    {
     "name": "stdout",
     "output_type": "stream",
     "text": [
      "There are 9742 movies.\n"
     ]
    }
   ],
   "source": [
    "print('There are ' + str(df_movies.movieId.nunique()) + ' movies.')"
   ]
  },
  {
   "cell_type": "code",
   "execution_count": 6,
   "metadata": {},
   "outputs": [
    {
     "name": "stdout",
     "output_type": "stream",
     "text": [
      "There are 610 users.\n"
     ]
    }
   ],
   "source": [
    "print('There are ' + str(df_ratings.userId.nunique()) + ' users.')"
   ]
  },
  {
   "cell_type": "code",
   "execution_count": 7,
   "metadata": {},
   "outputs": [
    {
     "name": "stdout",
     "output_type": "stream",
     "text": [
      "There are 100836 ratings.\n"
     ]
    }
   ],
   "source": [
    "print('There are ' + str(df_ratings.shape[0]) + ' ratings.')"
   ]
  },
  {
   "cell_type": "markdown",
   "metadata": {},
   "source": [
    "### Most popular genres of movie released"
   ]
  },
  {
   "cell_type": "code",
   "execution_count": 8,
   "metadata": {},
   "outputs": [
    {
     "data": {
      "text/plain": [
       "<BarContainer object of 19 artists>"
      ]
     },
     "execution_count": 8,
     "metadata": {},
     "output_type": "execute_result"
    },
    {
     "data": {
      "image/png": "[encoded data removed]",
      "text/plain": [
       "<Figure size 1440x504 with 1 Axes>"
      ]
     },
     "metadata": {
      "needs_background": "light"
     },
     "output_type": "display_data"
    }
   ],
   "source": [
    "plt.figure(figsize=(20,7))\n",
    "generlist = df_movies['genres'].apply(lambda generlist_movie : str(generlist_movie).split(\"|\"))\n",
    "geners_count = {}\n",
    "\n",
    "for generlist_movie in generlist:\n",
    "    for gener in generlist_movie:\n",
    "        if(geners_count.get(gener,False)):\n",
    "            geners_count[gener]=geners_count[gener]+1\n",
    "        else:\n",
    "            geners_count[gener] = 1       \n",
    "geners_count.pop(\"(no genres listed)\")\n",
    "plt.bar(geners_count.keys(),geners_count.values(),color='m')"
   ]
  },
  {
   "cell_type": "code",
   "execution_count": 9,
   "metadata": {},
   "outputs": [
    {
     "data": {
      "text/html": [
       "<div>\n",
       "<style scoped>\n",
       "    .dataframe tbody tr th:only-of-type {\n",
       "        vertical-align: middle;\n",
       "    }\n",
       "\n",
       "    .dataframe tbody tr th {\n",
       "        vertical-align: top;\n",
       "    }\n",
       "\n",
       "    .dataframe thead th {\n",
       "        text-align: right;\n",
       "    }\n",
       "</style>\n",
       "<table border=\"1\" class=\"dataframe\">\n",
       "  <thead>\n",
       "    <tr style=\"text-align: right;\">\n",
       "      <th></th>\n",
       "      <th>userId</th>\n",
       "      <th>movieId</th>\n",
       "      <th>rating</th>\n",
       "      <th>timestamp</th>\n",
       "    </tr>\n",
       "  </thead>\n",
       "  <tbody>\n",
       "    <tr>\n",
       "      <td>0</td>\n",
       "      <td>1</td>\n",
       "      <td>1</td>\n",
       "      <td>4.0</td>\n",
       "      <td>964982703</td>\n",
       "    </tr>\n",
       "    <tr>\n",
       "      <td>1</td>\n",
       "      <td>1</td>\n",
       "      <td>3</td>\n",
       "      <td>4.0</td>\n",
       "      <td>964981247</td>\n",
       "    </tr>\n",
       "    <tr>\n",
       "      <td>2</td>\n",
       "      <td>1</td>\n",
       "      <td>6</td>\n",
       "      <td>4.0</td>\n",
       "      <td>964982224</td>\n",
       "    </tr>\n",
       "    <tr>\n",
       "      <td>3</td>\n",
       "      <td>1</td>\n",
       "      <td>47</td>\n",
       "      <td>5.0</td>\n",
       "      <td>964983815</td>\n",
       "    </tr>\n",
       "    <tr>\n",
       "      <td>4</td>\n",
       "      <td>1</td>\n",
       "      <td>50</td>\n",
       "      <td>5.0</td>\n",
       "      <td>964982931</td>\n",
       "    </tr>\n",
       "    <tr>\n",
       "      <td>5</td>\n",
       "      <td>1</td>\n",
       "      <td>70</td>\n",
       "      <td>3.0</td>\n",
       "      <td>964982400</td>\n",
       "    </tr>\n",
       "    <tr>\n",
       "      <td>6</td>\n",
       "      <td>1</td>\n",
       "      <td>101</td>\n",
       "      <td>5.0</td>\n",
       "      <td>964980868</td>\n",
       "    </tr>\n",
       "    <tr>\n",
       "      <td>7</td>\n",
       "      <td>1</td>\n",
       "      <td>110</td>\n",
       "      <td>4.0</td>\n",
       "      <td>964982176</td>\n",
       "    </tr>\n",
       "    <tr>\n",
       "      <td>8</td>\n",
       "      <td>1</td>\n",
       "      <td>151</td>\n",
       "      <td>5.0</td>\n",
       "      <td>964984041</td>\n",
       "    </tr>\n",
       "    <tr>\n",
       "      <td>9</td>\n",
       "      <td>1</td>\n",
       "      <td>157</td>\n",
       "      <td>5.0</td>\n",
       "      <td>964984100</td>\n",
       "    </tr>\n",
       "  </tbody>\n",
       "</table>\n",
       "</div>"
      ],
      "text/plain": [
       "   userId  movieId  rating  timestamp\n",
       "0       1        1     4.0  964982703\n",
       "1       1        3     4.0  964981247\n",
       "2       1        6     4.0  964982224\n",
       "3       1       47     5.0  964983815\n",
       "4       1       50     5.0  964982931\n",
       "5       1       70     3.0  964982400\n",
       "6       1      101     5.0  964980868\n",
       "7       1      110     4.0  964982176\n",
       "8       1      151     5.0  964984041\n",
       "9       1      157     5.0  964984100"
      ]
     },
     "execution_count": 9,
     "metadata": {},
     "output_type": "execute_result"
    }
   ],
   "source": [
    "df_ratings.head(10)"
   ]
  },
  {
   "cell_type": "markdown",
   "metadata": {},
   "source": [
    "### Distribution of users rating"
   ]
  },
  {
   "cell_type": "code",
   "execution_count": 10,
   "metadata": {},
   "outputs": [
    {
     "data": {
      "image/png": "[encoded data removed]",
      "text/plain": [
       "<Figure size 432x288 with 1 Axes>"
      ]
     },
     "metadata": {
      "needs_background": "light"
     },
     "output_type": "display_data"
    }
   ],
   "source": [
    "sns.histplot(df_ratings[\"rating\"]);"
   ]
  },
  {
   "cell_type": "code",
   "execution_count": 11,
   "metadata": {
    "scrolled": true
   },
   "outputs": [
    {
     "name": "stdout",
     "output_type": "stream",
     "text": [
      "Shape of frames: \n",
      " Rating DataFrame(100836, 4)\n",
      " Movies DataFrame(9742, 3)\n"
     ]
    }
   ],
   "source": [
    "print(\"Shape of frames: \\n\"+ \" Rating DataFrame\"+ str(df_ratings.shape)+\"\\n Movies DataFrame\"+ str(df_movies.shape))"
   ]
  },
  {
   "cell_type": "code",
   "execution_count": 12,
   "metadata": {},
   "outputs": [],
   "source": [
    "merge_ratings_movies = pd.merge(df_movies, df_ratings, on='movieId', how='inner')"
   ]
  },
  {
   "cell_type": "code",
   "execution_count": 13,
   "metadata": {},
   "outputs": [
    {
     "data": {
      "text/html": [
       "<div>\n",
       "<style scoped>\n",
       "    .dataframe tbody tr th:only-of-type {\n",
       "        vertical-align: middle;\n",
       "    }\n",
       "\n",
       "    .dataframe tbody tr th {\n",
       "        vertical-align: top;\n",
       "    }\n",
       "\n",
       "    .dataframe thead th {\n",
       "        text-align: right;\n",
       "    }\n",
       "</style>\n",
       "<table border=\"1\" class=\"dataframe\">\n",
       "  <thead>\n",
       "    <tr style=\"text-align: right;\">\n",
       "      <th></th>\n",
       "      <th>movieId</th>\n",
       "      <th>title</th>\n",
       "      <th>genres</th>\n",
       "      <th>userId</th>\n",
       "      <th>rating</th>\n",
       "      <th>timestamp</th>\n",
       "    </tr>\n",
       "  </thead>\n",
       "  <tbody>\n",
       "    <tr>\n",
       "      <td>0</td>\n",
       "      <td>1</td>\n",
       "      <td>Toy Story (1995)</td>\n",
       "      <td>Adventure|Animation|Children|Comedy|Fantasy</td>\n",
       "      <td>1</td>\n",
       "      <td>4.0</td>\n",
       "      <td>964982703</td>\n",
       "    </tr>\n",
       "    <tr>\n",
       "      <td>1</td>\n",
       "      <td>1</td>\n",
       "      <td>Toy Story (1995)</td>\n",
       "      <td>Adventure|Animation|Children|Comedy|Fantasy</td>\n",
       "      <td>5</td>\n",
       "      <td>4.0</td>\n",
       "      <td>847434962</td>\n",
       "    </tr>\n",
       "    <tr>\n",
       "      <td>2</td>\n",
       "      <td>1</td>\n",
       "      <td>Toy Story (1995)</td>\n",
       "      <td>Adventure|Animation|Children|Comedy|Fantasy</td>\n",
       "      <td>7</td>\n",
       "      <td>4.5</td>\n",
       "      <td>1106635946</td>\n",
       "    </tr>\n",
       "    <tr>\n",
       "      <td>3</td>\n",
       "      <td>1</td>\n",
       "      <td>Toy Story (1995)</td>\n",
       "      <td>Adventure|Animation|Children|Comedy|Fantasy</td>\n",
       "      <td>15</td>\n",
       "      <td>2.5</td>\n",
       "      <td>1510577970</td>\n",
       "    </tr>\n",
       "    <tr>\n",
       "      <td>4</td>\n",
       "      <td>1</td>\n",
       "      <td>Toy Story (1995)</td>\n",
       "      <td>Adventure|Animation|Children|Comedy|Fantasy</td>\n",
       "      <td>17</td>\n",
       "      <td>4.5</td>\n",
       "      <td>1305696483</td>\n",
       "    </tr>\n",
       "    <tr>\n",
       "      <td>5</td>\n",
       "      <td>1</td>\n",
       "      <td>Toy Story (1995)</td>\n",
       "      <td>Adventure|Animation|Children|Comedy|Fantasy</td>\n",
       "      <td>18</td>\n",
       "      <td>3.5</td>\n",
       "      <td>1455209816</td>\n",
       "    </tr>\n",
       "    <tr>\n",
       "      <td>6</td>\n",
       "      <td>1</td>\n",
       "      <td>Toy Story (1995)</td>\n",
       "      <td>Adventure|Animation|Children|Comedy|Fantasy</td>\n",
       "      <td>19</td>\n",
       "      <td>4.0</td>\n",
       "      <td>965705637</td>\n",
       "    </tr>\n",
       "    <tr>\n",
       "      <td>7</td>\n",
       "      <td>1</td>\n",
       "      <td>Toy Story (1995)</td>\n",
       "      <td>Adventure|Animation|Children|Comedy|Fantasy</td>\n",
       "      <td>21</td>\n",
       "      <td>3.5</td>\n",
       "      <td>1407618878</td>\n",
       "    </tr>\n",
       "    <tr>\n",
       "      <td>8</td>\n",
       "      <td>1</td>\n",
       "      <td>Toy Story (1995)</td>\n",
       "      <td>Adventure|Animation|Children|Comedy|Fantasy</td>\n",
       "      <td>27</td>\n",
       "      <td>3.0</td>\n",
       "      <td>962685262</td>\n",
       "    </tr>\n",
       "    <tr>\n",
       "      <td>9</td>\n",
       "      <td>1</td>\n",
       "      <td>Toy Story (1995)</td>\n",
       "      <td>Adventure|Animation|Children|Comedy|Fantasy</td>\n",
       "      <td>31</td>\n",
       "      <td>5.0</td>\n",
       "      <td>850466616</td>\n",
       "    </tr>\n",
       "  </tbody>\n",
       "</table>\n",
       "</div>"
      ],
      "text/plain": [
       "   movieId             title                                       genres  \\\n",
       "0        1  Toy Story (1995)  Adventure|Animation|Children|Comedy|Fantasy   \n",
       "1        1  Toy Story (1995)  Adventure|Animation|Children|Comedy|Fantasy   \n",
       "2        1  Toy Story (1995)  Adventure|Animation|Children|Comedy|Fantasy   \n",
       "3        1  Toy Story (1995)  Adventure|Animation|Children|Comedy|Fantasy   \n",
       "4        1  Toy Story (1995)  Adventure|Animation|Children|Comedy|Fantasy   \n",
       "5        1  Toy Story (1995)  Adventure|Animation|Children|Comedy|Fantasy   \n",
       "6        1  Toy Story (1995)  Adventure|Animation|Children|Comedy|Fantasy   \n",
       "7        1  Toy Story (1995)  Adventure|Animation|Children|Comedy|Fantasy   \n",
       "8        1  Toy Story (1995)  Adventure|Animation|Children|Comedy|Fantasy   \n",
       "9        1  Toy Story (1995)  Adventure|Animation|Children|Comedy|Fantasy   \n",
       "\n",
       "   userId  rating   timestamp  \n",
       "0       1     4.0   964982703  \n",
       "1       5     4.0   847434962  \n",
       "2       7     4.5  1106635946  \n",
       "3      15     2.5  1510577970  \n",
       "4      17     4.5  1305696483  \n",
       "5      18     3.5  1455209816  \n",
       "6      19     4.0   965705637  \n",
       "7      21     3.5  1407618878  \n",
       "8      27     3.0   962685262  \n",
       "9      31     5.0   850466616  "
      ]
     },
     "execution_count": 13,
     "metadata": {},
     "output_type": "execute_result"
    }
   ],
   "source": [
    "merge_ratings_movies.head(10)"
   ]
  },
  {
   "cell_type": "code",
   "execution_count": 14,
   "metadata": {},
   "outputs": [
    {
     "data": {
      "text/html": [
       "<div>\n",
       "<style scoped>\n",
       "    .dataframe tbody tr th:only-of-type {\n",
       "        vertical-align: middle;\n",
       "    }\n",
       "\n",
       "    .dataframe tbody tr th {\n",
       "        vertical-align: top;\n",
       "    }\n",
       "\n",
       "    .dataframe thead th {\n",
       "        text-align: right;\n",
       "    }\n",
       "</style>\n",
       "<table border=\"1\" class=\"dataframe\">\n",
       "  <thead>\n",
       "    <tr style=\"text-align: right;\">\n",
       "      <th></th>\n",
       "      <th>movieId</th>\n",
       "      <th>title</th>\n",
       "      <th>genres</th>\n",
       "      <th>userId</th>\n",
       "      <th>rating</th>\n",
       "    </tr>\n",
       "  </thead>\n",
       "  <tbody>\n",
       "    <tr>\n",
       "      <td>0</td>\n",
       "      <td>1</td>\n",
       "      <td>Toy Story (1995)</td>\n",
       "      <td>Adventure|Animation|Children|Comedy|Fantasy</td>\n",
       "      <td>1</td>\n",
       "      <td>4.0</td>\n",
       "    </tr>\n",
       "    <tr>\n",
       "      <td>1</td>\n",
       "      <td>1</td>\n",
       "      <td>Toy Story (1995)</td>\n",
       "      <td>Adventure|Animation|Children|Comedy|Fantasy</td>\n",
       "      <td>5</td>\n",
       "      <td>4.0</td>\n",
       "    </tr>\n",
       "    <tr>\n",
       "      <td>2</td>\n",
       "      <td>1</td>\n",
       "      <td>Toy Story (1995)</td>\n",
       "      <td>Adventure|Animation|Children|Comedy|Fantasy</td>\n",
       "      <td>7</td>\n",
       "      <td>4.5</td>\n",
       "    </tr>\n",
       "    <tr>\n",
       "      <td>3</td>\n",
       "      <td>1</td>\n",
       "      <td>Toy Story (1995)</td>\n",
       "      <td>Adventure|Animation|Children|Comedy|Fantasy</td>\n",
       "      <td>15</td>\n",
       "      <td>2.5</td>\n",
       "    </tr>\n",
       "    <tr>\n",
       "      <td>4</td>\n",
       "      <td>1</td>\n",
       "      <td>Toy Story (1995)</td>\n",
       "      <td>Adventure|Animation|Children|Comedy|Fantasy</td>\n",
       "      <td>17</td>\n",
       "      <td>4.5</td>\n",
       "    </tr>\n",
       "    <tr>\n",
       "      <td>5</td>\n",
       "      <td>1</td>\n",
       "      <td>Toy Story (1995)</td>\n",
       "      <td>Adventure|Animation|Children|Comedy|Fantasy</td>\n",
       "      <td>18</td>\n",
       "      <td>3.5</td>\n",
       "    </tr>\n",
       "    <tr>\n",
       "      <td>6</td>\n",
       "      <td>1</td>\n",
       "      <td>Toy Story (1995)</td>\n",
       "      <td>Adventure|Animation|Children|Comedy|Fantasy</td>\n",
       "      <td>19</td>\n",
       "      <td>4.0</td>\n",
       "    </tr>\n",
       "    <tr>\n",
       "      <td>7</td>\n",
       "      <td>1</td>\n",
       "      <td>Toy Story (1995)</td>\n",
       "      <td>Adventure|Animation|Children|Comedy|Fantasy</td>\n",
       "      <td>21</td>\n",
       "      <td>3.5</td>\n",
       "    </tr>\n",
       "    <tr>\n",
       "      <td>8</td>\n",
       "      <td>1</td>\n",
       "      <td>Toy Story (1995)</td>\n",
       "      <td>Adventure|Animation|Children|Comedy|Fantasy</td>\n",
       "      <td>27</td>\n",
       "      <td>3.0</td>\n",
       "    </tr>\n",
       "    <tr>\n",
       "      <td>9</td>\n",
       "      <td>1</td>\n",
       "      <td>Toy Story (1995)</td>\n",
       "      <td>Adventure|Animation|Children|Comedy|Fantasy</td>\n",
       "      <td>31</td>\n",
       "      <td>5.0</td>\n",
       "    </tr>\n",
       "  </tbody>\n",
       "</table>\n",
       "</div>"
      ],
      "text/plain": [
       "   movieId             title                                       genres  \\\n",
       "0        1  Toy Story (1995)  Adventure|Animation|Children|Comedy|Fantasy   \n",
       "1        1  Toy Story (1995)  Adventure|Animation|Children|Comedy|Fantasy   \n",
       "2        1  Toy Story (1995)  Adventure|Animation|Children|Comedy|Fantasy   \n",
       "3        1  Toy Story (1995)  Adventure|Animation|Children|Comedy|Fantasy   \n",
       "4        1  Toy Story (1995)  Adventure|Animation|Children|Comedy|Fantasy   \n",
       "5        1  Toy Story (1995)  Adventure|Animation|Children|Comedy|Fantasy   \n",
       "6        1  Toy Story (1995)  Adventure|Animation|Children|Comedy|Fantasy   \n",
       "7        1  Toy Story (1995)  Adventure|Animation|Children|Comedy|Fantasy   \n",
       "8        1  Toy Story (1995)  Adventure|Animation|Children|Comedy|Fantasy   \n",
       "9        1  Toy Story (1995)  Adventure|Animation|Children|Comedy|Fantasy   \n",
       "\n",
       "   userId  rating  \n",
       "0       1     4.0  \n",
       "1       5     4.0  \n",
       "2       7     4.5  \n",
       "3      15     2.5  \n",
       "4      17     4.5  \n",
       "5      18     3.5  \n",
       "6      19     4.0  \n",
       "7      21     3.5  \n",
       "8      27     3.0  \n",
       "9      31     5.0  "
      ]
     },
     "execution_count": 14,
     "metadata": {},
     "output_type": "execute_result"
    }
   ],
   "source": [
    "merge_ratings_movies.drop('timestamp', axis=1, inplace = True)\n",
    "merge_ratings_movies.head(10)"
   ]
  },
  {
   "cell_type": "code",
   "execution_count": 15,
   "metadata": {},
   "outputs": [
    {
     "data": {
      "text/plain": [
       "(100836, 5)"
      ]
     },
     "execution_count": 15,
     "metadata": {},
     "output_type": "execute_result"
    }
   ],
   "source": [
    "merge_ratings_movies.shape"
   ]
  },
  {
   "cell_type": "markdown",
   "metadata": {},
   "source": [
    "**Group the ratings based on users**"
   ]
  },
  {
   "cell_type": "code",
   "execution_count": 16,
   "metadata": {},
   "outputs": [],
   "source": [
    "ratings_grouped_by_users = merge_ratings_movies.groupby('userId').agg([np.size, np.mean])"
   ]
  },
  {
   "cell_type": "code",
   "execution_count": 17,
   "metadata": {},
   "outputs": [
    {
     "data": {
      "text/html": [
       "<div>\n",
       "<style scoped>\n",
       "    .dataframe tbody tr th:only-of-type {\n",
       "        vertical-align: middle;\n",
       "    }\n",
       "\n",
       "    .dataframe tbody tr th {\n",
       "        vertical-align: top;\n",
       "    }\n",
       "\n",
       "    .dataframe thead tr th {\n",
       "        text-align: left;\n",
       "    }\n",
       "\n",
       "    .dataframe thead tr:last-of-type th {\n",
       "        text-align: right;\n",
       "    }\n",
       "</style>\n",
       "<table border=\"1\" class=\"dataframe\">\n",
       "  <thead>\n",
       "    <tr>\n",
       "      <th></th>\n",
       "      <th colspan=\"2\" halign=\"left\">movieId</th>\n",
       "      <th colspan=\"2\" halign=\"left\">rating</th>\n",
       "    </tr>\n",
       "    <tr>\n",
       "      <th></th>\n",
       "      <th>size</th>\n",
       "      <th>mean</th>\n",
       "      <th>size</th>\n",
       "      <th>mean</th>\n",
       "    </tr>\n",
       "    <tr>\n",
       "      <th>userId</th>\n",
       "      <th></th>\n",
       "      <th></th>\n",
       "      <th></th>\n",
       "      <th></th>\n",
       "    </tr>\n",
       "  </thead>\n",
       "  <tbody>\n",
       "    <tr>\n",
       "      <td>1</td>\n",
       "      <td>232</td>\n",
       "      <td>1854.603448</td>\n",
       "      <td>232.0</td>\n",
       "      <td>4.366379</td>\n",
       "    </tr>\n",
       "    <tr>\n",
       "      <td>2</td>\n",
       "      <td>29</td>\n",
       "      <td>70350.275862</td>\n",
       "      <td>29.0</td>\n",
       "      <td>3.948276</td>\n",
       "    </tr>\n",
       "    <tr>\n",
       "      <td>3</td>\n",
       "      <td>39</td>\n",
       "      <td>7058.384615</td>\n",
       "      <td>39.0</td>\n",
       "      <td>2.435897</td>\n",
       "    </tr>\n",
       "    <tr>\n",
       "      <td>4</td>\n",
       "      <td>216</td>\n",
       "      <td>1982.129630</td>\n",
       "      <td>216.0</td>\n",
       "      <td>3.555556</td>\n",
       "    </tr>\n",
       "    <tr>\n",
       "      <td>5</td>\n",
       "      <td>44</td>\n",
       "      <td>343.840909</td>\n",
       "      <td>44.0</td>\n",
       "      <td>3.636364</td>\n",
       "    </tr>\n",
       "    <tr>\n",
       "      <td>6</td>\n",
       "      <td>314</td>\n",
       "      <td>389.041401</td>\n",
       "      <td>314.0</td>\n",
       "      <td>3.493631</td>\n",
       "    </tr>\n",
       "    <tr>\n",
       "      <td>7</td>\n",
       "      <td>152</td>\n",
       "      <td>10908.256579</td>\n",
       "      <td>152.0</td>\n",
       "      <td>3.230263</td>\n",
       "    </tr>\n",
       "    <tr>\n",
       "      <td>8</td>\n",
       "      <td>47</td>\n",
       "      <td>297.978723</td>\n",
       "      <td>47.0</td>\n",
       "      <td>3.574468</td>\n",
       "    </tr>\n",
       "    <tr>\n",
       "      <td>9</td>\n",
       "      <td>46</td>\n",
       "      <td>3707.043478</td>\n",
       "      <td>46.0</td>\n",
       "      <td>3.260870</td>\n",
       "    </tr>\n",
       "    <tr>\n",
       "      <td>10</td>\n",
       "      <td>140</td>\n",
       "      <td>51465.307143</td>\n",
       "      <td>140.0</td>\n",
       "      <td>3.278571</td>\n",
       "    </tr>\n",
       "  </tbody>\n",
       "</table>\n",
       "</div>"
      ],
      "text/plain": [
       "       movieId               rating          \n",
       "          size          mean   size      mean\n",
       "userId                                       \n",
       "1          232   1854.603448  232.0  4.366379\n",
       "2           29  70350.275862   29.0  3.948276\n",
       "3           39   7058.384615   39.0  2.435897\n",
       "4          216   1982.129630  216.0  3.555556\n",
       "5           44    343.840909   44.0  3.636364\n",
       "6          314    389.041401  314.0  3.493631\n",
       "7          152  10908.256579  152.0  3.230263\n",
       "8           47    297.978723   47.0  3.574468\n",
       "9           46   3707.043478   46.0  3.260870\n",
       "10         140  51465.307143  140.0  3.278571"
      ]
     },
     "execution_count": 17,
     "metadata": {},
     "output_type": "execute_result"
    }
   ],
   "source": [
    "ratings_grouped_by_users.head(10)"
   ]
  },
  {
   "cell_type": "code",
   "execution_count": 18,
   "metadata": {},
   "outputs": [
    {
     "data": {
      "text/html": [
       "<div>\n",
       "<style scoped>\n",
       "    .dataframe tbody tr th:only-of-type {\n",
       "        vertical-align: middle;\n",
       "    }\n",
       "\n",
       "    .dataframe tbody tr th {\n",
       "        vertical-align: top;\n",
       "    }\n",
       "\n",
       "    .dataframe thead tr th {\n",
       "        text-align: left;\n",
       "    }\n",
       "\n",
       "    .dataframe thead tr:last-of-type th {\n",
       "        text-align: right;\n",
       "    }\n",
       "</style>\n",
       "<table border=\"1\" class=\"dataframe\">\n",
       "  <thead>\n",
       "    <tr>\n",
       "      <th></th>\n",
       "      <th colspan=\"2\" halign=\"left\">rating</th>\n",
       "    </tr>\n",
       "    <tr>\n",
       "      <th></th>\n",
       "      <th>size</th>\n",
       "      <th>mean</th>\n",
       "    </tr>\n",
       "    <tr>\n",
       "      <th>userId</th>\n",
       "      <th></th>\n",
       "      <th></th>\n",
       "    </tr>\n",
       "  </thead>\n",
       "  <tbody>\n",
       "    <tr>\n",
       "      <td>1</td>\n",
       "      <td>232.0</td>\n",
       "      <td>4.366379</td>\n",
       "    </tr>\n",
       "    <tr>\n",
       "      <td>2</td>\n",
       "      <td>29.0</td>\n",
       "      <td>3.948276</td>\n",
       "    </tr>\n",
       "    <tr>\n",
       "      <td>3</td>\n",
       "      <td>39.0</td>\n",
       "      <td>2.435897</td>\n",
       "    </tr>\n",
       "    <tr>\n",
       "      <td>4</td>\n",
       "      <td>216.0</td>\n",
       "      <td>3.555556</td>\n",
       "    </tr>\n",
       "    <tr>\n",
       "      <td>5</td>\n",
       "      <td>44.0</td>\n",
       "      <td>3.636364</td>\n",
       "    </tr>\n",
       "    <tr>\n",
       "      <td>6</td>\n",
       "      <td>314.0</td>\n",
       "      <td>3.493631</td>\n",
       "    </tr>\n",
       "    <tr>\n",
       "      <td>7</td>\n",
       "      <td>152.0</td>\n",
       "      <td>3.230263</td>\n",
       "    </tr>\n",
       "    <tr>\n",
       "      <td>8</td>\n",
       "      <td>47.0</td>\n",
       "      <td>3.574468</td>\n",
       "    </tr>\n",
       "    <tr>\n",
       "      <td>9</td>\n",
       "      <td>46.0</td>\n",
       "      <td>3.260870</td>\n",
       "    </tr>\n",
       "    <tr>\n",
       "      <td>10</td>\n",
       "      <td>140.0</td>\n",
       "      <td>3.278571</td>\n",
       "    </tr>\n",
       "  </tbody>\n",
       "</table>\n",
       "</div>"
      ],
      "text/plain": [
       "       rating          \n",
       "         size      mean\n",
       "userId                 \n",
       "1       232.0  4.366379\n",
       "2        29.0  3.948276\n",
       "3        39.0  2.435897\n",
       "4       216.0  3.555556\n",
       "5        44.0  3.636364\n",
       "6       314.0  3.493631\n",
       "7       152.0  3.230263\n",
       "8        47.0  3.574468\n",
       "9        46.0  3.260870\n",
       "10      140.0  3.278571"
      ]
     },
     "execution_count": 18,
     "metadata": {},
     "output_type": "execute_result"
    }
   ],
   "source": [
    "ratings_grouped_by_users.drop('movieId', axis = 1, inplace = True)\n",
    "ratings_grouped_by_users.head(10)"
   ]
  },
  {
   "cell_type": "markdown",
   "metadata": {},
   "source": [
    "### Top 10 users who have rated most of the movies"
   ]
  },
  {
   "cell_type": "code",
   "execution_count": 19,
   "metadata": {},
   "outputs": [
    {
     "data": {
      "text/plain": [
       "<matplotlib.axes._subplots.AxesSubplot at 0x7fd03759c490>"
      ]
     },
     "execution_count": 19,
     "metadata": {},
     "output_type": "execute_result"
    },
    {
     "data": {
      "image/png": "[encoded data removed]",
      "text/plain": [
       "<Figure size 720x360 with 1 Axes>"
      ]
     },
     "metadata": {
      "needs_background": "light"
     },
     "output_type": "display_data"
    }
   ],
   "source": [
    "ratings_grouped_by_users['rating']['size'].sort_values(ascending=False).head(10).plot(kind = 'bar', figsize = (10,5))"
   ]
  },
  {
   "cell_type": "code",
   "execution_count": 20,
   "metadata": {},
   "outputs": [
    {
     "data": {
      "text/plain": [
       "userId\n",
       "414    2698.0\n",
       "599    2478.0\n",
       "474    2108.0\n",
       "448    1864.0\n",
       "274    1346.0\n",
       "610    1302.0\n",
       "68     1260.0\n",
       "380    1218.0\n",
       "606    1115.0\n",
       "288    1055.0\n",
       "Name: size, dtype: float64"
      ]
     },
     "execution_count": 20,
     "metadata": {},
     "output_type": "execute_result"
    }
   ],
   "source": [
    "ratings_grouped_by_users['rating']['size'].sort_values(ascending=False).head(10)"
   ]
  },
  {
   "cell_type": "code",
   "execution_count": 21,
   "metadata": {},
   "outputs": [],
   "source": [
    "ratings_grouped_by_movies = merge_ratings_movies.groupby('movieId').agg([np.mean], np.size)"
   ]
  },
  {
   "cell_type": "code",
   "execution_count": 22,
   "metadata": {},
   "outputs": [
    {
     "data": {
      "text/plain": [
       "(9724, 2)"
      ]
     },
     "execution_count": 22,
     "metadata": {},
     "output_type": "execute_result"
    }
   ],
   "source": [
    "ratings_grouped_by_movies.shape"
   ]
  },
  {
   "cell_type": "code",
   "execution_count": 23,
   "metadata": {
    "scrolled": true
   },
   "outputs": [
    {
     "data": {
      "text/html": [
       "<div>\n",
       "<style scoped>\n",
       "    .dataframe tbody tr th:only-of-type {\n",
       "        vertical-align: middle;\n",
       "    }\n",
       "\n",
       "    .dataframe tbody tr th {\n",
       "        vertical-align: top;\n",
       "    }\n",
       "\n",
       "    .dataframe thead tr th {\n",
       "        text-align: left;\n",
       "    }\n",
       "\n",
       "    .dataframe thead tr:last-of-type th {\n",
       "        text-align: right;\n",
       "    }\n",
       "</style>\n",
       "<table border=\"1\" class=\"dataframe\">\n",
       "  <thead>\n",
       "    <tr>\n",
       "      <th></th>\n",
       "      <th>userId</th>\n",
       "      <th>rating</th>\n",
       "    </tr>\n",
       "    <tr>\n",
       "      <th></th>\n",
       "      <th>mean</th>\n",
       "      <th>mean</th>\n",
       "    </tr>\n",
       "    <tr>\n",
       "      <th>movieId</th>\n",
       "      <th></th>\n",
       "      <th></th>\n",
       "    </tr>\n",
       "  </thead>\n",
       "  <tbody>\n",
       "    <tr>\n",
       "      <td>1</td>\n",
       "      <td>306.530233</td>\n",
       "      <td>3.920930</td>\n",
       "    </tr>\n",
       "    <tr>\n",
       "      <td>2</td>\n",
       "      <td>329.554545</td>\n",
       "      <td>3.431818</td>\n",
       "    </tr>\n",
       "    <tr>\n",
       "      <td>3</td>\n",
       "      <td>283.596154</td>\n",
       "      <td>3.259615</td>\n",
       "    </tr>\n",
       "    <tr>\n",
       "      <td>4</td>\n",
       "      <td>219.857143</td>\n",
       "      <td>2.357143</td>\n",
       "    </tr>\n",
       "    <tr>\n",
       "      <td>5</td>\n",
       "      <td>299.571429</td>\n",
       "      <td>3.071429</td>\n",
       "    </tr>\n",
       "    <tr>\n",
       "      <td>6</td>\n",
       "      <td>309.647059</td>\n",
       "      <td>3.946078</td>\n",
       "    </tr>\n",
       "    <tr>\n",
       "      <td>7</td>\n",
       "      <td>279.000000</td>\n",
       "      <td>3.185185</td>\n",
       "    </tr>\n",
       "    <tr>\n",
       "      <td>8</td>\n",
       "      <td>258.250000</td>\n",
       "      <td>2.875000</td>\n",
       "    </tr>\n",
       "    <tr>\n",
       "      <td>9</td>\n",
       "      <td>362.937500</td>\n",
       "      <td>3.125000</td>\n",
       "    </tr>\n",
       "    <tr>\n",
       "      <td>10</td>\n",
       "      <td>315.159091</td>\n",
       "      <td>3.496212</td>\n",
       "    </tr>\n",
       "  </tbody>\n",
       "</table>\n",
       "</div>"
      ],
      "text/plain": [
       "             userId    rating\n",
       "               mean      mean\n",
       "movieId                      \n",
       "1        306.530233  3.920930\n",
       "2        329.554545  3.431818\n",
       "3        283.596154  3.259615\n",
       "4        219.857143  2.357143\n",
       "5        299.571429  3.071429\n",
       "6        309.647059  3.946078\n",
       "7        279.000000  3.185185\n",
       "8        258.250000  2.875000\n",
       "9        362.937500  3.125000\n",
       "10       315.159091  3.496212"
      ]
     },
     "execution_count": 23,
     "metadata": {},
     "output_type": "execute_result"
    }
   ],
   "source": [
    "ratings_grouped_by_movies.head(10)"
   ]
  },
  {
   "cell_type": "code",
   "execution_count": 24,
   "metadata": {},
   "outputs": [
    {
     "data": {
      "text/html": [
       "<div>\n",
       "<style scoped>\n",
       "    .dataframe tbody tr th:only-of-type {\n",
       "        vertical-align: middle;\n",
       "    }\n",
       "\n",
       "    .dataframe tbody tr th {\n",
       "        vertical-align: top;\n",
       "    }\n",
       "\n",
       "    .dataframe thead tr th {\n",
       "        text-align: left;\n",
       "    }\n",
       "\n",
       "    .dataframe thead tr:last-of-type th {\n",
       "        text-align: right;\n",
       "    }\n",
       "</style>\n",
       "<table border=\"1\" class=\"dataframe\">\n",
       "  <thead>\n",
       "    <tr>\n",
       "      <th></th>\n",
       "      <th>rating</th>\n",
       "    </tr>\n",
       "    <tr>\n",
       "      <th></th>\n",
       "      <th>mean</th>\n",
       "    </tr>\n",
       "    <tr>\n",
       "      <th>movieId</th>\n",
       "      <th></th>\n",
       "    </tr>\n",
       "  </thead>\n",
       "  <tbody>\n",
       "    <tr>\n",
       "      <td>1</td>\n",
       "      <td>3.920930</td>\n",
       "    </tr>\n",
       "    <tr>\n",
       "      <td>2</td>\n",
       "      <td>3.431818</td>\n",
       "    </tr>\n",
       "    <tr>\n",
       "      <td>3</td>\n",
       "      <td>3.259615</td>\n",
       "    </tr>\n",
       "    <tr>\n",
       "      <td>4</td>\n",
       "      <td>2.357143</td>\n",
       "    </tr>\n",
       "    <tr>\n",
       "      <td>5</td>\n",
       "      <td>3.071429</td>\n",
       "    </tr>\n",
       "    <tr>\n",
       "      <td>6</td>\n",
       "      <td>3.946078</td>\n",
       "    </tr>\n",
       "    <tr>\n",
       "      <td>7</td>\n",
       "      <td>3.185185</td>\n",
       "    </tr>\n",
       "    <tr>\n",
       "      <td>8</td>\n",
       "      <td>2.875000</td>\n",
       "    </tr>\n",
       "    <tr>\n",
       "      <td>9</td>\n",
       "      <td>3.125000</td>\n",
       "    </tr>\n",
       "    <tr>\n",
       "      <td>10</td>\n",
       "      <td>3.496212</td>\n",
       "    </tr>\n",
       "  </tbody>\n",
       "</table>\n",
       "</div>"
      ],
      "text/plain": [
       "           rating\n",
       "             mean\n",
       "movieId          \n",
       "1        3.920930\n",
       "2        3.431818\n",
       "3        3.259615\n",
       "4        2.357143\n",
       "5        3.071429\n",
       "6        3.946078\n",
       "7        3.185185\n",
       "8        2.875000\n",
       "9        3.125000\n",
       "10       3.496212"
      ]
     },
     "execution_count": 24,
     "metadata": {},
     "output_type": "execute_result"
    }
   ],
   "source": [
    "ratings_grouped_by_movies = ratings_grouped_by_movies.drop('userId', axis=1)\n",
    "ratings_grouped_by_movies.head(10)"
   ]
  },
  {
   "cell_type": "markdown",
   "metadata": {},
   "source": [
    "### Movies with high average rating"
   ]
  },
  {
   "cell_type": "code",
   "execution_count": 25,
   "metadata": {
    "scrolled": false
   },
   "outputs": [
    {
     "data": {
      "image/png": "[encoded data removed]",
      "text/plain": [
       "<Figure size 504x432 with 1 Axes>"
      ]
     },
     "metadata": {
      "needs_background": "light"
     },
     "output_type": "display_data"
    }
   ],
   "source": [
    "ratings_grouped_by_movies['rating']['mean'].sort_values(ascending=False).head(10).plot(kind='barh', figsize=(7,6));"
   ]
  },
  {
   "cell_type": "markdown",
   "metadata": {},
   "source": [
    "### Movies with low average rating"
   ]
  },
  {
   "cell_type": "code",
   "execution_count": 26,
   "metadata": {},
   "outputs": [],
   "source": [
    "low_rated_movies_filter = ratings_grouped_by_movies['rating']['mean']< 1.5"
   ]
  },
  {
   "cell_type": "code",
   "execution_count": 27,
   "metadata": {},
   "outputs": [],
   "source": [
    "low_rated_movies = ratings_grouped_by_movies[low_rated_movies_filter]"
   ]
  },
  {
   "cell_type": "code",
   "execution_count": 28,
   "metadata": {
    "scrolled": true
   },
   "outputs": [
    {
     "data": {
      "image/png": "[encoded data removed]",
      "text/plain": [
       "<Figure size 504x360 with 1 Axes>"
      ]
     },
     "metadata": {
      "needs_background": "light"
     },
     "output_type": "display_data"
    }
   ],
   "source": [
    "low_rated_movies.head(20).plot(kind='barh', figsize=(7,5));"
   ]
  },
  {
   "cell_type": "code",
   "execution_count": 29,
   "metadata": {},
   "outputs": [
    {
     "data": {
      "text/html": [
       "<div>\n",
       "<style scoped>\n",
       "    .dataframe tbody tr th:only-of-type {\n",
       "        vertical-align: middle;\n",
       "    }\n",
       "\n",
       "    .dataframe tbody tr th {\n",
       "        vertical-align: top;\n",
       "    }\n",
       "\n",
       "    .dataframe thead tr th {\n",
       "        text-align: left;\n",
       "    }\n",
       "\n",
       "    .dataframe thead tr:last-of-type th {\n",
       "        text-align: right;\n",
       "    }\n",
       "</style>\n",
       "<table border=\"1\" class=\"dataframe\">\n",
       "  <thead>\n",
       "    <tr>\n",
       "      <th></th>\n",
       "      <th>rating</th>\n",
       "    </tr>\n",
       "    <tr>\n",
       "      <th></th>\n",
       "      <th>mean</th>\n",
       "    </tr>\n",
       "    <tr>\n",
       "      <th>movieId</th>\n",
       "      <th></th>\n",
       "    </tr>\n",
       "  </thead>\n",
       "  <tbody>\n",
       "    <tr>\n",
       "      <td>178</td>\n",
       "      <td>1.000000</td>\n",
       "    </tr>\n",
       "    <tr>\n",
       "      <td>312</td>\n",
       "      <td>1.444444</td>\n",
       "    </tr>\n",
       "    <tr>\n",
       "      <td>449</td>\n",
       "      <td>1.000000</td>\n",
       "    </tr>\n",
       "    <tr>\n",
       "      <td>470</td>\n",
       "      <td>1.000000</td>\n",
       "    </tr>\n",
       "    <tr>\n",
       "      <td>476</td>\n",
       "      <td>1.000000</td>\n",
       "    </tr>\n",
       "    <tr>\n",
       "      <td>698</td>\n",
       "      <td>1.000000</td>\n",
       "    </tr>\n",
       "    <tr>\n",
       "      <td>870</td>\n",
       "      <td>1.000000</td>\n",
       "    </tr>\n",
       "    <tr>\n",
       "      <td>1163</td>\n",
       "      <td>1.000000</td>\n",
       "    </tr>\n",
       "    <tr>\n",
       "      <td>1324</td>\n",
       "      <td>1.166667</td>\n",
       "    </tr>\n",
       "    <tr>\n",
       "      <td>1325</td>\n",
       "      <td>1.250000</td>\n",
       "    </tr>\n",
       "  </tbody>\n",
       "</table>\n",
       "</div>"
      ],
      "text/plain": [
       "           rating\n",
       "             mean\n",
       "movieId          \n",
       "178      1.000000\n",
       "312      1.444444\n",
       "449      1.000000\n",
       "470      1.000000\n",
       "476      1.000000\n",
       "698      1.000000\n",
       "870      1.000000\n",
       "1163     1.000000\n",
       "1324     1.166667\n",
       "1325     1.250000"
      ]
     },
     "execution_count": 29,
     "metadata": {},
     "output_type": "execute_result"
    }
   ],
   "source": [
    "low_rated_movies.head(10)"
   ]
  },
  {
   "cell_type": "markdown",
   "metadata": {},
   "source": [
    "## Content-based Filtering\n",
    "\n",
    "Content-based filtering methods are best suited to situations where there is known data on an item (name, location, description, etc.), but not on the user. \n",
    "\n",
    "* Recommendation of items are based on: user's previous purcheses, views and likes\n",
    "\n",
    "* Generate **similarity** score from item atrributes. Here we use movie genres.\n",
    "\n",
    "* Recommend the items based on similarity score\n",
    "\n",
    "For example, if a user likes movies such as ‘Mission Impossible’ then we can recommend him the movies with the genre ‘Action’.\n",
    "\n",
    "\n",
    "#### Term Frequency-Inverse Document Frequency (TF-IDF)\n",
    "The concepts of Term Frequency (TF) and Inverse Document Frequency (IDF) are used in information retrieval systems and also content based filtering mechanisms (such as a content based recommender). They are used to determine the relative importance of a document / article / news item / movie etc.\n",
    "\n",
    "![](https://mungingdata.files.wordpress.com/2017/11/equation.png?w=430&h=336)\n",
    "\n",
    "\n",
    "We will consider genres as an important parameter to recommend user the movie he or she watches based on generes of movie user has already watched."
   ]
  },
  {
   "cell_type": "markdown",
   "metadata": {},
   "source": [
    "#### Cosine Similarity\n",
    "\n",
    "For calculating similarity/distance, many similarity coefficients can be calculated. Most widely used similarity coefficients are Euclidean, Cosine, Pearson Correlation etc. We will use cosine similarity here.\n",
    "\n",
    "\n",
    "<img src=\"https://raw.githubusercontent.com/jalajthanaki/Movie_recommendation_engine/master/img/2_14.png\" \n",
    "align=\"middle\" alt=\"Figure 2.14\" data-canonical-src=\"\" style=\"width:60%;height:60%\">\n",
    "\n",
    "* cosine similarity value `[-1,1]` \n",
    "* particularly used in positive space, where the outcome is neatly bounded in `[0,1]`\n",
    "* very efficient to evaluate, especially for sparse vectors.\n",
    "\n",
    "| Value of $\\cos\\theta$ | Value of $\\theta$ | Conclusion|\n",
    "|:---:|:---: |:---:|\n",
    "| +1 |$0^{\\circ}$   | Vectors are very similar |\n",
    "|  0 |$90^{\\circ}$  | Vectors are not similar (orthogonal vectors)|\n",
    "| -1 |$180^{\\circ}$ | Vectors are diametrically dissimilar |"
   ]
  },
  {
   "cell_type": "code",
   "execution_count": 30,
   "metadata": {},
   "outputs": [
    {
     "name": "stdout",
     "output_type": "stream",
     "text": [
      "['action', 'adventure', 'animation', 'children', 'comedy', 'crime', 'documentary', 'drama', 'fantasy', 'film-noir', 'horror', 'imax', 'musical', 'mystery', 'romance', 'sci-fi', 'thriller', 'war', 'western']\n",
      "(9742, 19)\n"
     ]
    }
   ],
   "source": [
    "from sklearn.feature_extraction.text import TfidfVectorizer\n",
    "\n",
    "# Define a TF-IDF Vectorizer Object.\n",
    "tfidf_movies_genres = TfidfVectorizer(token_pattern = '[a-zA-Z0-9\\-]+')\n",
    "\n",
    "#Replace NaN with an empty string\n",
    "df_movies['genres'] = df_movies['genres'].replace(to_replace=\"(no genres listed)\", value=\"\")\n",
    "\n",
    "#Construct the required TF-IDF matrix by fitting and transforming the data\n",
    "tfidf_movies_genres_matrix = tfidf_movies_genres.fit_transform(df_movies['genres'])\n",
    "\n",
    "print(tfidf_movies_genres.get_feature_names())\n",
    "\n",
    "print(tfidf_movies_genres_matrix.shape)"
   ]
  },
  {
   "cell_type": "markdown",
   "metadata": {},
   "source": [
    "**Compute the cosine similarity matrix**\n",
    "\n",
    "Let\n",
    "$\\mathbf{G} = \n",
    "\\begin{bmatrix}\n",
    "— g_1^\\top — \\\\\n",
    "— g_2^\\top — \\\\\n",
    "\\dots \\\\\n",
    "— g_{9742}^\\top — \n",
    "\\end{bmatrix}\\in\\mathbb{R}^{9742\\times19}$ be the move genres matrix after TF-IDF vectorization, with each row $g_i^\\top$ being the TF-IDF vector for the $i$-th movie's genres, then the cosine similarity matrix $\\mathbf{C}\\in\\mathbb{R}^{9742\\times9742}$ is conveniently computed by\n",
    "\n",
    "$$\n",
    "C_{i,j} = \\frac{\\langle g_i, g_j \\rangle}{\\|g_i\\| \\|g_j\\|},\n",
    "$$\n",
    "\n",
    "representing the cosine similarity between $g_i$ and $g_j$, i.e., $i$-th and $j$-th movies' genres.\n",
    "\n",
    "The cosine similarity matrix $\\mathbf{C}$ is symmetric, and the $i$-th row or coloumn gives the cosine similarities between the $i$-th movie's genres and all movies' genres (including itself)."
   ]
  },
  {
   "cell_type": "code",
   "execution_count": 31,
   "metadata": {},
   "outputs": [
    {
     "name": "stdout",
     "output_type": "stream",
     "text": [
      "(9742, 9742)\n"
     ]
    }
   ],
   "source": [
    "from sklearn.metrics.pairwise import cosine_similarity\n",
    "\n",
    "cosine_sim_movies = cosine_similarity(tfidf_movies_genres_matrix, tfidf_movies_genres_matrix)\n",
    "\n",
    "print(cosine_sim_movies.shape)"
   ]
  },
  {
   "cell_type": "markdown",
   "metadata": {},
   "source": [
    "**Recommend new movies that are similar to a movie based on genres**"
   ]
  },
  {
   "cell_type": "code",
   "execution_count": 32,
   "metadata": {},
   "outputs": [],
   "source": [
    "def get_recommendations_based_on_genres(movie_title, cosine_sim_movies=cosine_sim_movies, n_recommendations = 2):\n",
    "    \"\"\"\n",
    "    Calculates top 2 movies to recommend based on given movie titles genres. \n",
    "    :param movie_title: title of movie to be taken for base of recommendation\n",
    "    :param cosine_sim_movies: cosine similarity between movies \n",
    "    :return: Titles of movies recommended to user\n",
    "    \"\"\"\n",
    "    \n",
    "    \n",
    "    # Get the index of the movie that matches the title\n",
    "    idx_movie = df_movies.loc[df_movies['title'].isin([movie_title])]\n",
    "    \n",
    "    idx_movie = idx_movie.index\n",
    "    \n",
    "    \n",
    "    \n",
    "    # Get the pairwsie similarity scores of all movies with that movie\n",
    "    sim_scores_movies = list(enumerate(cosine_sim_movies[idx_movie][0]))\n",
    "            \n",
    "    \n",
    "    # Sort the movies based on the similarity scores\n",
    "    sim_scores_movies = sorted(sim_scores_movies, key=lambda x: x[1], reverse=True)\n",
    "    \n",
    "    \n",
    "    \n",
    "    # Get the indices of of the most similar movies\n",
    "    movie_indices = []\n",
    "    \n",
    "    i = 0\n",
    "    \n",
    "    # Return the most similar movies\n",
    "\n",
    "    \n",
    "    while len(movie_indices) < n_recommendations:\n",
    "        if sim_scores_movies[i][0]!=idx_movie:\n",
    "            movie_indices.append(sim_scores_movies[i][0])\n",
    "        i += 1\n",
    "\n",
    "\n",
    "    return df_movies.iloc[movie_indices]['title']"
   ]
  },
  {
   "cell_type": "code",
   "execution_count": 33,
   "metadata": {},
   "outputs": [
    {
     "data": {
      "text/plain": [
       "1706                                       Antz (1998)\n",
       "2355                                Toy Story 2 (1999)\n",
       "2809    Adventures of Rocky and Bullwinkle, The (2000)\n",
       "3000                  Emperor's New Groove, The (2000)\n",
       "3568                             Monsters, Inc. (2001)\n",
       "Name: title, dtype: object"
      ]
     },
     "execution_count": 33,
     "metadata": {},
     "output_type": "execute_result"
    }
   ],
   "source": [
    "get_recommendations_based_on_genres(\"Toy Story (1995)\", n_recommendations = 5)"
   ]
  },
  {
   "cell_type": "code",
   "execution_count": 34,
   "metadata": {},
   "outputs": [
    {
     "data": {
      "text/plain": [
       "1598                             Dark Crystal, The (1982)\n",
       "2157                                     Excalibur (1981)\n",
       "2845               Sinbad and the Eye of the Tiger (1977)\n",
       "3638    Lord of the Rings: The Fellowship of the Ring,...\n",
       "4137        Lord of the Rings: The Two Towers, The (2002)\n",
       "Name: title, dtype: object"
      ]
     },
     "execution_count": 34,
     "metadata": {},
     "output_type": "execute_result"
    }
   ],
   "source": [
    "get_recommendations_based_on_genres('Harry Potter and the Chamber of Secrets (2002)', n_recommendations = 5)"
   ]
  },
  {
   "cell_type": "code",
   "execution_count": 35,
   "metadata": {
    "scrolled": true
   },
   "outputs": [
    {
     "data": {
      "text/plain": [
       "145                   Judge Dredd (1995)\n",
       "6106    District 13 (Banlieue 13) (2004)\n",
       "8915                Suicide Squad (2016)\n",
       "8982                  Tokyo Tribe (2014)\n",
       "2249                    RoboCop 2 (1990)\n",
       "Name: title, dtype: object"
      ]
     },
     "execution_count": 35,
     "metadata": {},
     "output_type": "execute_result"
    }
   ],
   "source": [
    "get_recommendations_based_on_genres('Looper (2012)', n_recommendations = 5)"
   ]
  },
  {
   "cell_type": "markdown",
   "metadata": {},
   "source": [
    "**Recommend new movies that are similar to the movies a user has watched**"
   ]
  },
  {
   "cell_type": "code",
   "execution_count": 36,
   "metadata": {},
   "outputs": [],
   "source": [
    "def get_recommendation_content_model(userId):\n",
    "    \"\"\"\n",
    "    Calculates top movies to be recommended to user based on movie user has watched.  \n",
    "    :param userId: userid of user\n",
    "    :return: List of titles of movies recommended to user\n",
    "    \"\"\"\n",
    "    \n",
    "    recommended_movie_list = []\n",
    "    movie_list = []\n",
    "    df_rating_filtered = df_ratings[df_ratings[\"userId\"]== userId]\n",
    "    \n",
    "    for key, row in df_rating_filtered.iterrows():\n",
    "        movie_list.append((df_movies[\"title\"][row[\"movieId\"]==df_movies[\"movieId\"]]).values) \n",
    "    \n",
    "\n",
    "    for index, movie in enumerate(movie_list):\n",
    "        for key, movie_recommended in get_recommendations_based_on_genres(movie[0]).iteritems():\n",
    "            recommended_movie_list.append(movie_recommended)\n",
    "\n",
    "     # removing already watched movies from recommended list    \n",
    "    for movie_title in recommended_movie_list:\n",
    "        if movie_title in movie_list:\n",
    "            recommended_movie_list.remove(movie_title)\n",
    "    \n",
    "    return set(recommended_movie_list)"
   ]
  },
  {
   "cell_type": "code",
   "execution_count": 37,
   "metadata": {},
   "outputs": [
    {
     "data": {
      "text/plain": [
       "{'101 Dalmatians (One Hundred and One Dalmatians) (1961)',\n",
       " '39 Steps, The (1935)',\n",
       " 'Adventures in Babysitting (1987)',\n",
       " 'Aladdin (1992)',\n",
       " 'Alamo, The (1960)',\n",
       " 'Alien Nation (1988)',\n",
       " 'Amateur (1994)',\n",
       " 'Amazing Panda Adventure, The (1995)',\n",
       " 'Antz (1998)',\n",
       " 'Apocalypse Now (1979)',\n",
       " 'Aristocats, The (1970)',\n",
       " 'Around the World in 80 Days (1956)',\n",
       " 'Assassins (1995)',\n",
       " 'Austin Powers: The Spy Who Shagged Me (1999)',\n",
       " 'BURN-E (2008)',\n",
       " 'Babes in Toyland (1934)',\n",
       " 'Backbeat (1993)',\n",
       " 'Balto (1995)',\n",
       " 'Barb Wire (1996)',\n",
       " 'Barbarella (1968)',\n",
       " 'Batman: Mystery of the Batwoman (2003)',\n",
       " 'Beat the Devil (1953)',\n",
       " 'Before and After (1996)',\n",
       " 'Ben-Hur (1959)',\n",
       " 'Beverly Hills Cop III (1994)',\n",
       " 'Big Bully (1996)',\n",
       " 'Big Country, The (1958)',\n",
       " 'Black Hole, The (1979)',\n",
       " 'Blues Brothers 2000 (1998)',\n",
       " 'Boot, Das (Boat, The) (1981)',\n",
       " 'Bride of Frankenstein, The (Bride of Frankenstein) (1935)',\n",
       " 'Broken Arrow (1996)',\n",
       " 'Brothers Bloom, The (2008)',\n",
       " \"Bug's Life, A (1998)\",\n",
       " 'Captain Blood (1935)',\n",
       " 'Casino (1995)',\n",
       " 'Castle Freak (1995)',\n",
       " 'Cat People (1982)',\n",
       " \"Cats Don't Dance (1997)\",\n",
       " 'Catwoman (2004)',\n",
       " 'Chinatown (1974)',\n",
       " \"Cirque du Freak: The Vampire's Assistant (2009)\",\n",
       " \"City Slickers II: The Legend of Curly's Gold (1994)\",\n",
       " 'Clash of the Titans (1981)',\n",
       " 'Client, The (1994)',\n",
       " 'Clueless (1995)',\n",
       " 'Coneheads (1993)',\n",
       " 'Crocodile Dundee II (1988)',\n",
       " 'Crossing Guard, The (1995)',\n",
       " 'Cutthroat Island (1995)',\n",
       " 'Dark Crystal, The (1982)',\n",
       " 'Devil in a Blue Dress (1995)',\n",
       " 'Dial M for Murder (1954)',\n",
       " 'Die Hard: With a Vengeance (1995)',\n",
       " 'Django Unchained (2012)',\n",
       " 'Doctor Dolittle (1967)',\n",
       " 'Dogma (1999)',\n",
       " \"Don't Be a Menace to South Central While Drinking Your Juice in the Hood (1996)\",\n",
       " 'Dr. Strangelove or: How I Learned to Stop Worrying and Love the Bomb (1964)',\n",
       " 'Drop Dead Fred (1991)',\n",
       " 'Drop Zone (1994)',\n",
       " 'Dungeons & Dragons (2000)',\n",
       " \"Eight Crazy Nights (Adam Sandler's Eight Crazy Nights) (2002)\",\n",
       " 'Escape from L.A. (1996)',\n",
       " 'Ewok Adventure, The (a.k.a. Caravan of Courage: An Ewok Adventure) (1984)',\n",
       " 'Explorers (1985)',\n",
       " 'Fantastic Mr. Fox (2009)',\n",
       " 'Fargo (1996)',\n",
       " 'Farinelli: il castrato (1994)',\n",
       " 'Father of the Bride Part II (1995)',\n",
       " 'Faust (1926)',\n",
       " 'Feast (2005)',\n",
       " 'Ferngully: The Last Rainforest (1992)',\n",
       " 'Four Rooms (1995)',\n",
       " 'Fox and the Hound, The (1981)',\n",
       " 'Freaks (1932)',\n",
       " 'Freeway (1996)',\n",
       " 'Friday the 13th (1980)',\n",
       " 'Funny Face (1957)',\n",
       " 'Get Shorty (1995)',\n",
       " 'GoldenEye (1995)',\n",
       " 'Grumpier Old Men (1995)',\n",
       " 'Hanna (2011)',\n",
       " 'Happiness of the Katakuris, The (Katakuri-ke no kÃ´fuku) (2001)',\n",
       " 'Harlem Nights (1989)',\n",
       " 'Heartbreakers (2001)',\n",
       " 'Hellboy (2004)',\n",
       " 'Henry: Portrait of a Serial Killer (1986)',\n",
       " 'Home (2015)',\n",
       " 'Hook (1991)',\n",
       " 'In the Army Now (1994)',\n",
       " 'Independence Day (a.k.a. ID4) (1996)',\n",
       " 'Indian in the Cupboard, The (1995)',\n",
       " 'Insomnia (2002)',\n",
       " 'Into the Woods (1991)',\n",
       " 'Jade (1995)',\n",
       " 'Jewel of the Nile, The (1985)',\n",
       " 'Jimmy Neutron: Boy Genius (2001)',\n",
       " 'Journey to the Center of the Earth (1959)',\n",
       " 'Judge Dredd (1995)',\n",
       " 'Jumanji (1995)',\n",
       " 'Junior (1994)',\n",
       " 'Jurassic Park (1993)',\n",
       " 'Just Cause (1995)',\n",
       " 'Kaspar Hauser (1993)',\n",
       " 'Kicking and Screaming (1995)',\n",
       " \"King Solomon's Mines (1937)\",\n",
       " 'La CÃ©rÃ©monie (1995)',\n",
       " 'Lamerica (1994)',\n",
       " 'Land Before Time III: The Time of the Great Giving (1995)',\n",
       " 'Last Action Hero (1993)',\n",
       " 'Lawnmower Man 2: Beyond Cyberspace (1996)',\n",
       " 'Leaving Las Vegas (1995)',\n",
       " 'Legends of the Fall (1994)',\n",
       " 'Lethal Weapon 2 (1989)',\n",
       " 'Librarian: Quest for the Spear, The (2004)',\n",
       " 'Life Is Beautiful (La Vita Ã¨ bella) (1997)',\n",
       " 'Lightning Jack (1994)',\n",
       " 'Like Water for Chocolate (Como agua para chocolate) (1992)',\n",
       " 'Lilo & Stitch (2002)',\n",
       " 'Little Shop of Horrors (1986)',\n",
       " 'Lord of Illusions (1995)',\n",
       " 'LÃ©on: The Professional (a.k.a. The Professional) (LÃ©on) (1994)',\n",
       " 'Man Who Knew Too Little, The (1997)',\n",
       " 'Man on Fire (2004)',\n",
       " 'Mars Attacks! (1996)',\n",
       " 'Mary Poppins (1964)',\n",
       " \"Mary Shelley's Frankenstein (Frankenstein) (1994)\",\n",
       " 'Maverick (1994)',\n",
       " 'Medallion, The (2003)',\n",
       " 'Meet the Feebles (1989)',\n",
       " 'Michael (1996)',\n",
       " 'MisÃ©rables, Les (1995)',\n",
       " 'Monster House (2006)',\n",
       " 'Mortal Kombat (1995)',\n",
       " 'Muppet Treasure Island (1996)',\n",
       " 'National Treasure (2004)',\n",
       " 'New Adventures of Pippi Longstocking, The (1988)',\n",
       " 'New York Cop (NyÃ» YÃ´ku no koppu) (1993)',\n",
       " 'Nick of Time (1995)',\n",
       " 'Nightmare Before Christmas, The (1993)',\n",
       " 'Nixon (1995)',\n",
       " 'No Escape (1994)',\n",
       " 'Oliver & Company (1988)',\n",
       " 'Omen, The (1976)',\n",
       " \"On Her Majesty's Secret Service (1969)\",\n",
       " \"Once Upon a Time in the West (C'era una volta il West) (1968)\",\n",
       " 'Orlando (1992)',\n",
       " 'Othello (1995)',\n",
       " 'Phantom, The (1996)',\n",
       " 'Pleasantville (1998)',\n",
       " 'PokÃ©mon: The First Movie (1998)',\n",
       " 'Primal Fear (1996)',\n",
       " 'Pulp Fiction (1994)',\n",
       " 'Purple Rose of Cairo, The (1985)',\n",
       " 'Quest for Camelot (1998)',\n",
       " 'Quest, The (1996)',\n",
       " 'Ratatouille (2007)',\n",
       " 'Reckless (1995)',\n",
       " 'Return from Witch Mountain (1978)',\n",
       " 'Return to Snowy River (a.k.a. The Man From Snowy River II) (1988)',\n",
       " 'Richard III (1995)',\n",
       " 'Robin Hood: Prince of Thieves (1991)',\n",
       " 'RoboCop 2 (1990)',\n",
       " 'RoboCop 3 (1993)',\n",
       " 'Sabrina (1995)',\n",
       " 'Safe (1995)',\n",
       " 'Santa Clause, The (1994)',\n",
       " 'Saw (2003)',\n",
       " 'Scooby-Doo (2002)',\n",
       " 'Scream (1996)',\n",
       " 'Scream 2 (1997)',\n",
       " 'Screamers (1995)',\n",
       " 'Scrooged (1988)',\n",
       " 'Secret Life of Walter Mitty, The (1947)',\n",
       " 'Sense and Sensibility (1995)',\n",
       " 'Shanghai Triad (Yao a yao yao dao waipo qiao) (1995)',\n",
       " 'Simple Wish, A (1997)',\n",
       " 'Sinbad and the Eye of the Tiger (1977)',\n",
       " 'Snakes on a Plane (2006)',\n",
       " 'Something Wicked This Way Comes (1983)',\n",
       " \"Sorcerer's Apprentice, The (2010)\",\n",
       " 'South Pacific (1958)',\n",
       " 'Spartacus (1960)',\n",
       " 'Species (1995)',\n",
       " 'Splash (1984)',\n",
       " 'Stagecoach (1939)',\n",
       " 'Star Trek IV: The Voyage Home (1986)',\n",
       " 'Steamboat Willie (1928)',\n",
       " 'Street Fighter (1994)',\n",
       " 'Striking Distance (1993)',\n",
       " 'Striptease (1996)',\n",
       " 'Supercop (Police Story 3: Supercop) (Jing cha gu shi III: Chao ji jing cha) (1992)',\n",
       " 'Swan Princess, The (1994)',\n",
       " 'Talk of the Town, The (1942)',\n",
       " 'Tangled Ever After (2012)',\n",
       " 'Tank Girl (1995)',\n",
       " 'Tarzan (1999)',\n",
       " 'Taxi Driver (1976)',\n",
       " 'Terminator 2: Judgment Day (1991)',\n",
       " 'The Mummy (2017)',\n",
       " 'Thumbelina (1994)',\n",
       " 'Time Lapse (2014)',\n",
       " 'To Be or Not to Be (1942)',\n",
       " 'Tokyo Tribe (2014)',\n",
       " 'Tom and Huck (1995)',\n",
       " 'Toy Story 2 (1999)',\n",
       " 'Train of Life (Train de vie) (1998)',\n",
       " 'True Grit (1969)',\n",
       " 'Underground (1995)',\n",
       " 'Underneath (1995)',\n",
       " 'Up (2009)',\n",
       " 'Valiant (2005)',\n",
       " 'Van Helsing (2004)',\n",
       " 'Village of the Damned (1995)',\n",
       " 'War of the Worlds, The (1953)',\n",
       " 'Waterworld (1995)',\n",
       " \"We're Back! A Dinosaur's Story (1993)\",\n",
       " 'Were the World Mine (2008)',\n",
       " 'What Dreams May Come (1998)',\n",
       " 'White Squall (1996)',\n",
       " 'Winnie the Pooh and the Blustery Day (1968)',\n",
       " 'Witches, The (1990)',\n",
       " 'Wiz, The (1978)',\n",
       " 'Wizards of Waverly Place: The Movie (2009)'}"
      ]
     },
     "execution_count": 37,
     "metadata": {},
     "output_type": "execute_result"
    }
   ],
   "source": [
    "get_recommendation_content_model(userId=1)"
   ]
  },
  {
   "cell_type": "code",
   "execution_count": 38,
   "metadata": {
    "scrolled": false
   },
   "outputs": [
    {
     "data": {
      "text/plain": [
       "{'300: Rise of an Empire (2014)',\n",
       " 'Aladdin and the King of Thieves (1996)',\n",
       " 'Alice in Wonderland (2010)',\n",
       " 'Along Came a Spider (2001)',\n",
       " 'American President, The (1995)',\n",
       " 'American Tail, An (1986)',\n",
       " 'Apollo 13 (1995)',\n",
       " 'Around the World in 80 Days (1956)',\n",
       " 'Assassins (1995)',\n",
       " 'Asterix and Cleopatra (AstÃ©rix et ClÃ©opÃ¢tre) (1968)',\n",
       " 'Babes in Toyland (1934)',\n",
       " 'Batman Forever (1995)',\n",
       " 'Beauty and the Beast (1991)',\n",
       " 'Ben-Hur (1959)',\n",
       " 'Beowulf & Grendel (2005)',\n",
       " 'Big Bully (1996)',\n",
       " 'Blood and Chocolate (2007)',\n",
       " 'Bolt (2008)',\n",
       " 'Broken Arrow (1996)',\n",
       " \"Bug's Life, A (1998)\",\n",
       " 'Captain Horatio Hornblower R.N. (1951)',\n",
       " 'Cinderella (1950)',\n",
       " 'Cloud Atlas (2012)',\n",
       " 'Corpse Bride (2005)',\n",
       " 'Crossing Guard, The (1995)',\n",
       " 'Dark Crystal, The (1982)',\n",
       " 'Dark Knight, The (2008)',\n",
       " 'Doom Generation, The (1995)',\n",
       " \"Dracula (Bram Stoker's Dracula) (1992)\",\n",
       " \"Dragon Ball: Sleeping Princess in Devil's Castle (Doragon bÃ´ru: MajinjÃ´ no nemuri hime) (1987)\",\n",
       " 'Dragon Ball: The Curse Of The Blood Rubies (Doragon bÃ´ru: Shenron no densetsu) (1986)',\n",
       " 'Dumb & Dumber (Dumb and Dumber) (1994)',\n",
       " 'Elektra (2005)',\n",
       " 'Emerald Green (2016)',\n",
       " 'Excalibur (1981)',\n",
       " 'Family Guy Presents Stewie Griffin: The Untold Story (2005)',\n",
       " 'Fantasia 2000 (1999)',\n",
       " 'Fantastic Mr. Fox (2009)',\n",
       " 'Fargo (1996)',\n",
       " 'Father of the Bride Part II (1995)',\n",
       " 'Four Rooms (1995)',\n",
       " 'Freeway (1996)',\n",
       " 'Gay Divorcee, The (1934)',\n",
       " 'Ghost (1990)',\n",
       " 'Gnomeo & Juliet (2011)',\n",
       " 'GoldenEye (1995)',\n",
       " 'Grandmaster, The (Yi dai zong shi) (2013)',\n",
       " 'Great Escape, The (1963)',\n",
       " 'Grumpier Old Men (1995)',\n",
       " 'Happy Feet Two (2011)',\n",
       " 'Harry Potter and the Deathly Hallows: Part 2 (2011)',\n",
       " 'Harry Potter and the Goblet of Fire (2005)',\n",
       " 'Harry Potter and the Order of the Phoenix (2007)',\n",
       " 'Harry Potter and the Prisoner of Azkaban (2004)',\n",
       " 'Heat (1995)',\n",
       " 'Hercules (1997)',\n",
       " 'Jack Ryan: Shadow Recruit (2014)',\n",
       " 'Jewel of the Nile, The (1985)',\n",
       " 'Jimmy Hollywood (1994)',\n",
       " 'Journey to the West: Conquering the Demons (Daai wa sai you chi Chui mo chun kei) (2013)',\n",
       " 'Kicking and Screaming (1995)',\n",
       " 'Kung Fu Panda (2008)',\n",
       " 'Kung Fu Panda: Secrets of the Furious Five (2008)',\n",
       " 'Lawnmower Man 2: Beyond Cyberspace (1996)',\n",
       " 'Leaving Las Vegas (1995)',\n",
       " 'Let Me In (2010)',\n",
       " 'Life Is Beautiful (La Vita Ã¨ bella) (1997)',\n",
       " 'Like Water for Chocolate (Como agua para chocolate) (1992)',\n",
       " \"Lion King II: Simba's Pride, The (1998)\",\n",
       " 'LÃ©on: The Professional (a.k.a. The Professional) (LÃ©on) (1994)',\n",
       " 'Madagascar: Escape 2 Africa (2008)',\n",
       " 'Man with the Iron Fists, The (2012)',\n",
       " 'Mission: Impossible - Ghost Protocol (2011)',\n",
       " 'MisÃ©rables, Les (1995)',\n",
       " 'Need for Speed (2014)',\n",
       " 'Nixon (1995)',\n",
       " 'Noah (2014)',\n",
       " 'Normal Life (1996)',\n",
       " 'Oliver & Company (1988)',\n",
       " 'Open Season (2006)',\n",
       " 'Orlando (1992)',\n",
       " 'Othello (1995)',\n",
       " 'Poseidon (2006)',\n",
       " 'Powerpuff Girls, The (2002)',\n",
       " 'Puss in Boots (Nagagutsu o haita neko) (1969)',\n",
       " 'Richard III (1995)',\n",
       " 'Rumble in the Bronx (Hont faan kui) (1995)',\n",
       " 'Sabrina (1995)',\n",
       " 'Screamers (1995)',\n",
       " 'Secret of NIMH, The (1982)',\n",
       " 'Seeker: The Dark Is Rising, The (2007)',\n",
       " 'Sense and Sensibility (1995)',\n",
       " 'Shrek 2 (2004)',\n",
       " \"Singin' in the Rain (1952)\",\n",
       " 'Snake Eyes (1998)',\n",
       " 'Stalingrad (2013)',\n",
       " 'Star Wars: Episode II - Attack of the Clones (2002)',\n",
       " 'Sucker Punch (2011)',\n",
       " 'Superman Returns (2006)',\n",
       " 'Tarzan (1999)',\n",
       " \"Things to Do in Denver When You're Dead (1995)\",\n",
       " 'Three Musketeers, The (1993)',\n",
       " 'Train of Life (Train de vie) (1998)',\n",
       " 'Transcendence (2014)',\n",
       " 'Umbrellas of Cherbourg, The (Parapluies de Cherbourg, Les) (1964)',\n",
       " 'Waiting to Exhale (1995)',\n",
       " 'Wallace & Gromit: The Best of Aardman Animation (1996)',\n",
       " 'Wallace & Gromit: The Wrong Trousers (1993)',\n",
       " 'West Side Story (1961)',\n",
       " 'What Dreams May Come (1998)',\n",
       " 'What Lies Beneath (2000)',\n",
       " 'White Squall (1996)',\n",
       " 'Willy Wonka & the Chocolate Factory (1971)',\n",
       " 'Yellow Submarine (1968)'}"
      ]
     },
     "execution_count": 38,
     "metadata": {},
     "output_type": "execute_result"
    }
   ],
   "source": [
    "get_recommendation_content_model(userId=10)"
   ]
  },
  {
   "cell_type": "markdown",
   "metadata": {},
   "source": [
    "## Exercise\n",
    "\n",
    "Modify the code so that content-based filtering only recommends movies similar to a user's top 5 or 10 favorate movies that he has watched."
   ]
  }
 ],
 "metadata": {
  "kernelspec": {
   "display_name": "Python 3",
   "language": "python",
   "name": "python3"
  },
  "language_info": {
   "codemirror_mode": {
    "name": "ipython",
    "version": 3
   },
   "file_extension": ".py",
   "mimetype": "text/x-python",
   "name": "python",
   "nbconvert_exporter": "python",
   "pygments_lexer": "ipython3",
   "version": "3.8.8"
  }
 },
 "nbformat": 4,
 "nbformat_minor": 2
}
